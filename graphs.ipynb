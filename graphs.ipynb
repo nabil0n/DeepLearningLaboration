{
 "cells": [
  {
   "cell_type": "code",
   "execution_count": 1,
   "metadata": {},
   "outputs": [],
   "source": [
    "import plotly.express as px\n",
    "import pandas as pd"
   ]
  },
  {
   "cell_type": "code",
   "execution_count": 2,
   "metadata": {},
   "outputs": [
    {
     "data": {
      "text/html": [
       "<div>\n",
       "<style scoped>\n",
       "    .dataframe tbody tr th:only-of-type {\n",
       "        vertical-align: middle;\n",
       "    }\n",
       "\n",
       "    .dataframe tbody tr th {\n",
       "        vertical-align: top;\n",
       "    }\n",
       "\n",
       "    .dataframe thead th {\n",
       "        text-align: right;\n",
       "    }\n",
       "</style>\n",
       "<table border=\"1\" class=\"dataframe\">\n",
       "  <thead>\n",
       "    <tr style=\"text-align: right;\">\n",
       "      <th></th>\n",
       "      <th>episode</th>\n",
       "      <th>frame</th>\n",
       "      <th>running_reward</th>\n",
       "      <th>max_reward</th>\n",
       "      <th>time</th>\n",
       "    </tr>\n",
       "  </thead>\n",
       "  <tbody>\n",
       "    <tr>\n",
       "      <th>0</th>\n",
       "      <td>20</td>\n",
       "      <td>10000</td>\n",
       "      <td>151.250000</td>\n",
       "      <td>385.0</td>\n",
       "      <td>222.194359</td>\n",
       "    </tr>\n",
       "    <tr>\n",
       "      <th>1</th>\n",
       "      <td>41</td>\n",
       "      <td>20000</td>\n",
       "      <td>147.682927</td>\n",
       "      <td>410.0</td>\n",
       "      <td>445.948867</td>\n",
       "    </tr>\n",
       "    <tr>\n",
       "      <th>2</th>\n",
       "      <td>57</td>\n",
       "      <td>30000</td>\n",
       "      <td>160.877193</td>\n",
       "      <td>500.0</td>\n",
       "      <td>670.805969</td>\n",
       "    </tr>\n",
       "    <tr>\n",
       "      <th>3</th>\n",
       "      <td>76</td>\n",
       "      <td>40000</td>\n",
       "      <td>155.723684</td>\n",
       "      <td>535.0</td>\n",
       "      <td>896.202304</td>\n",
       "    </tr>\n",
       "    <tr>\n",
       "      <th>4</th>\n",
       "      <td>95</td>\n",
       "      <td>50000</td>\n",
       "      <td>160.631579</td>\n",
       "      <td>610.0</td>\n",
       "      <td>1123.924546</td>\n",
       "    </tr>\n",
       "    <tr>\n",
       "      <th>...</th>\n",
       "      <td>...</td>\n",
       "      <td>...</td>\n",
       "      <td>...</td>\n",
       "      <td>...</td>\n",
       "      <td>...</td>\n",
       "    </tr>\n",
       "    <tr>\n",
       "      <th>87</th>\n",
       "      <td>2426</td>\n",
       "      <td>1420000</td>\n",
       "      <td>274.100000</td>\n",
       "      <td>745.0</td>\n",
       "      <td>40672.679877</td>\n",
       "    </tr>\n",
       "    <tr>\n",
       "      <th>88</th>\n",
       "      <td>2443</td>\n",
       "      <td>1430000</td>\n",
       "      <td>261.400000</td>\n",
       "      <td>600.0</td>\n",
       "      <td>40984.760193</td>\n",
       "    </tr>\n",
       "    <tr>\n",
       "      <th>89</th>\n",
       "      <td>2458</td>\n",
       "      <td>1440000</td>\n",
       "      <td>263.400000</td>\n",
       "      <td>590.0</td>\n",
       "      <td>41296.984493</td>\n",
       "    </tr>\n",
       "    <tr>\n",
       "      <th>90</th>\n",
       "      <td>2475</td>\n",
       "      <td>1450000</td>\n",
       "      <td>256.700000</td>\n",
       "      <td>590.0</td>\n",
       "      <td>41610.870529</td>\n",
       "    </tr>\n",
       "    <tr>\n",
       "      <th>91</th>\n",
       "      <td>2491</td>\n",
       "      <td>1460000</td>\n",
       "      <td>252.350000</td>\n",
       "      <td>590.0</td>\n",
       "      <td>41931.472387</td>\n",
       "    </tr>\n",
       "  </tbody>\n",
       "</table>\n",
       "<p>146 rows × 5 columns</p>\n",
       "</div>"
      ],
      "text/plain": [
       "    episode    frame  running_reward  max_reward          time\n",
       "0        20    10000      151.250000       385.0    222.194359\n",
       "1        41    20000      147.682927       410.0    445.948867\n",
       "2        57    30000      160.877193       500.0    670.805969\n",
       "3        76    40000      155.723684       535.0    896.202304\n",
       "4        95    50000      160.631579       610.0   1123.924546\n",
       "..      ...      ...             ...         ...           ...\n",
       "87     2426  1420000      274.100000       745.0  40672.679877\n",
       "88     2443  1430000      261.400000       600.0  40984.760193\n",
       "89     2458  1440000      263.400000       590.0  41296.984493\n",
       "90     2475  1450000      256.700000       590.0  41610.870529\n",
       "91     2491  1460000      252.350000       590.0  41931.472387\n",
       "\n",
       "[146 rows x 5 columns]"
      ]
     },
     "execution_count": 2,
     "metadata": {},
     "output_type": "execute_result"
    }
   ],
   "source": [
    "df = pd.read_csv('./logs/modelstats_08-12.csv')\n",
    "df2 = pd.read_csv('./logs/modelstats_09-12.csv')\n",
    "df = pd.concat([df, df2])\n",
    "df"
   ]
  },
  {
   "cell_type": "code",
   "execution_count": 3,
   "metadata": {},
   "outputs": [
    {
     "data": {
      "application/vnd.plotly.v1+json": {
       "config": {
        "plotlyServerURL": "https://plot.ly"
       },
       "data": [
        {
         "hovertemplate": "variable=running_reward<br>Episode=%{x}<br>value=%{y}<extra></extra>",
         "legendgroup": "running_reward",
         "line": {
          "color": "#636efa",
          "dash": "solid"
         },
         "marker": {
          "symbol": "circle"
         },
         "mode": "lines",
         "name": "running_reward",
         "orientation": "v",
         "showlegend": true,
         "type": "scatter",
         "x": [
          20,
          41,
          57,
          76,
          95,
          114,
          133,
          154,
          174,
          192,
          211,
          232,
          252,
          273,
          293,
          313,
          332,
          352,
          372,
          391,
          412,
          432,
          453,
          471,
          489,
          508,
          528,
          547,
          566,
          584,
          604,
          623,
          645,
          667,
          687,
          704,
          724,
          745,
          765,
          785,
          802,
          824,
          843,
          862,
          881,
          899,
          918,
          936,
          953,
          972,
          992,
          1011,
          1028,
          1046,
          1064,
          1082,
          1098,
          1117,
          1133,
          1153,
          1170,
          1189,
          1207,
          1225,
          1243,
          1263,
          1281,
          1298,
          1316,
          1335,
          1354,
          1371,
          1389,
          1407,
          1424,
          1440,
          1455,
          1471,
          1488,
          1504,
          1520,
          1535,
          1552,
          1568,
          1583,
          1599,
          1617,
          1631,
          1648,
          1662,
          1679,
          1695,
          1710,
          1726,
          1741,
          1755,
          1770,
          1785,
          1800,
          1816,
          1830,
          1845,
          1860,
          1873,
          1888,
          1900,
          1915,
          1930,
          1946,
          1959,
          1976,
          1990,
          2006,
          2021,
          2037,
          2053,
          2067,
          2079,
          2092,
          2107,
          2121,
          2136,
          2149,
          2164,
          2178,
          2194,
          2208,
          2223,
          2235,
          2250,
          2266,
          2280,
          2294,
          2308,
          2322,
          2336,
          2352,
          2367,
          2382,
          2397,
          2411,
          2426,
          2443,
          2458,
          2475,
          2491
         ],
         "xaxis": "x",
         "y": [
          151.25,
          147.6829268292683,
          160.87719298245614,
          155.72368421052633,
          160.6315789473684,
          159.4,
          162.1,
          151.6,
          149.55,
          148,
          154.1,
          145.4,
          151.2,
          146.55,
          139.6,
          138.55,
          144.6,
          147.6,
          153.2,
          158.55,
          163.65,
          165.8,
          161,
          165.35,
          168.4,
          172.05,
          168.65,
          172.55,
          170.7,
          174.4,
          165.35,
          167.75,
          167.3,
          159.1,
          155.8,
          161.25,
          159,
          166.4,
          177.6,
          177.45,
          185.55,
          180.1,
          178.95,
          173.65,
          184.95,
          171.55,
          175.45,
          183.05,
          189.45,
          189.45,
          186.7,
          179.35,
          179.7,
          183.85,
          182.5,
          191.85,
          199.85,
          210.5,
          210,
          208.2,
          220.05,
          223.7,
          222.85,
          223,
          217.45,
          215.05,
          211.9,
          215.1,
          214.2,
          204.15,
          205.1,
          211.2,
          205.35,
          203.05,
          216.15,
          222.85,
          234.25,
          237.9,
          243.6,
          254.75,
          258.75,
          257.55,
          252.05,
          257,
          252.3,
          252.15,
          251.05,
          253.85,
          253.9,
          259.75,
          255.8,
          249.9,
          250.4,
          245.2,
          248.95,
          249.15,
          252.95,
          263.55,
          269.6,
          273.85,
          268.35,
          271.35,
          274.45,
          263.05,
          269.8,
          281,
          286.9,
          286.8,
          279.85,
          286.7,
          279.85,
          275.25,
          269.4,
          258.9,
          259.75,
          260.95,
          253.95,
          273.75,
          283.15,
          289.45,
          296.45,
          300.05,
          304.35,
          302.6,
          293.75,
          289.4,
          281.7,
          286.3,
          292.85,
          291.8,
          284,
          285.9,
          292.55,
          294.85,
          287.95,
          287.45,
          281.55,
          293.55,
          280.95,
          278.9,
          282.3,
          274.1,
          261.4,
          263.4,
          256.7,
          252.35
         ],
         "yaxis": "y"
        },
        {
         "hovertemplate": "variable=max_reward<br>Episode=%{x}<br>value=%{y}<extra></extra>",
         "legendgroup": "max_reward",
         "line": {
          "color": "#EF553B",
          "dash": "solid"
         },
         "marker": {
          "symbol": "circle"
         },
         "mode": "lines",
         "name": "max_reward",
         "orientation": "v",
         "showlegend": true,
         "type": "scatter",
         "x": [
          20,
          41,
          57,
          76,
          95,
          114,
          133,
          154,
          174,
          192,
          211,
          232,
          252,
          273,
          293,
          313,
          332,
          352,
          372,
          391,
          412,
          432,
          453,
          471,
          489,
          508,
          528,
          547,
          566,
          584,
          604,
          623,
          645,
          667,
          687,
          704,
          724,
          745,
          765,
          785,
          802,
          824,
          843,
          862,
          881,
          899,
          918,
          936,
          953,
          972,
          992,
          1011,
          1028,
          1046,
          1064,
          1082,
          1098,
          1117,
          1133,
          1153,
          1170,
          1189,
          1207,
          1225,
          1243,
          1263,
          1281,
          1298,
          1316,
          1335,
          1354,
          1371,
          1389,
          1407,
          1424,
          1440,
          1455,
          1471,
          1488,
          1504,
          1520,
          1535,
          1552,
          1568,
          1583,
          1599,
          1617,
          1631,
          1648,
          1662,
          1679,
          1695,
          1710,
          1726,
          1741,
          1755,
          1770,
          1785,
          1800,
          1816,
          1830,
          1845,
          1860,
          1873,
          1888,
          1900,
          1915,
          1930,
          1946,
          1959,
          1976,
          1990,
          2006,
          2021,
          2037,
          2053,
          2067,
          2079,
          2092,
          2107,
          2121,
          2136,
          2149,
          2164,
          2178,
          2194,
          2208,
          2223,
          2235,
          2250,
          2266,
          2280,
          2294,
          2308,
          2322,
          2336,
          2352,
          2367,
          2382,
          2397,
          2411,
          2426,
          2443,
          2458,
          2475,
          2491
         ],
         "xaxis": "x",
         "y": [
          385,
          410,
          500,
          535,
          610,
          610,
          610,
          610,
          610,
          395,
          395,
          410,
          410,
          410,
          410,
          440,
          440,
          490,
          490,
          515,
          515,
          515,
          515,
          515,
          515,
          515,
          515,
          515,
          515,
          610,
          610,
          610,
          610,
          610,
          550,
          550,
          590,
          590,
          715,
          715,
          775,
          775,
          775,
          775,
          775,
          515,
          515,
          565,
          675,
          675,
          675,
          675,
          675,
          675,
          560,
          560,
          560,
          560,
          560,
          655,
          655,
          655,
          655,
          655,
          630,
          630,
          695,
          695,
          695,
          695,
          695,
          870,
          870,
          870,
          870,
          870,
          870,
          820,
          820,
          820,
          820,
          820,
          820,
          820,
          745,
          745,
          745,
          745,
          745,
          695,
          695,
          695,
          695,
          665,
          665,
          665,
          665,
          730,
          730,
          730,
          730,
          730,
          770,
          770,
          770,
          770,
          835,
          835,
          835,
          835,
          835,
          835,
          835,
          725,
          725,
          725,
          725,
          725,
          705,
          705,
          705,
          705,
          705,
          705,
          655,
          655,
          620,
          730,
          750,
          750,
          750,
          750,
          750,
          750,
          750,
          745,
          745,
          745,
          745,
          745,
          745,
          745,
          600,
          590,
          590,
          590
         ],
         "yaxis": "y"
        }
       ],
       "layout": {
        "legend": {
         "title": {
          "text": "variable"
         },
         "tracegroupgap": 0
        },
        "template": {
         "data": {
          "bar": [
           {
            "error_x": {
             "color": "#f2f5fa"
            },
            "error_y": {
             "color": "#f2f5fa"
            },
            "marker": {
             "line": {
              "color": "rgb(17,17,17)",
              "width": 0.5
             },
             "pattern": {
              "fillmode": "overlay",
              "size": 10,
              "solidity": 0.2
             }
            },
            "type": "bar"
           }
          ],
          "barpolar": [
           {
            "marker": {
             "line": {
              "color": "rgb(17,17,17)",
              "width": 0.5
             },
             "pattern": {
              "fillmode": "overlay",
              "size": 10,
              "solidity": 0.2
             }
            },
            "type": "barpolar"
           }
          ],
          "carpet": [
           {
            "aaxis": {
             "endlinecolor": "#A2B1C6",
             "gridcolor": "#506784",
             "linecolor": "#506784",
             "minorgridcolor": "#506784",
             "startlinecolor": "#A2B1C6"
            },
            "baxis": {
             "endlinecolor": "#A2B1C6",
             "gridcolor": "#506784",
             "linecolor": "#506784",
             "minorgridcolor": "#506784",
             "startlinecolor": "#A2B1C6"
            },
            "type": "carpet"
           }
          ],
          "choropleth": [
           {
            "colorbar": {
             "outlinewidth": 0,
             "ticks": ""
            },
            "type": "choropleth"
           }
          ],
          "contour": [
           {
            "colorbar": {
             "outlinewidth": 0,
             "ticks": ""
            },
            "colorscale": [
             [
              0,
              "#0d0887"
             ],
             [
              0.1111111111111111,
              "#46039f"
             ],
             [
              0.2222222222222222,
              "#7201a8"
             ],
             [
              0.3333333333333333,
              "#9c179e"
             ],
             [
              0.4444444444444444,
              "#bd3786"
             ],
             [
              0.5555555555555556,
              "#d8576b"
             ],
             [
              0.6666666666666666,
              "#ed7953"
             ],
             [
              0.7777777777777778,
              "#fb9f3a"
             ],
             [
              0.8888888888888888,
              "#fdca26"
             ],
             [
              1,
              "#f0f921"
             ]
            ],
            "type": "contour"
           }
          ],
          "contourcarpet": [
           {
            "colorbar": {
             "outlinewidth": 0,
             "ticks": ""
            },
            "type": "contourcarpet"
           }
          ],
          "heatmap": [
           {
            "colorbar": {
             "outlinewidth": 0,
             "ticks": ""
            },
            "colorscale": [
             [
              0,
              "#0d0887"
             ],
             [
              0.1111111111111111,
              "#46039f"
             ],
             [
              0.2222222222222222,
              "#7201a8"
             ],
             [
              0.3333333333333333,
              "#9c179e"
             ],
             [
              0.4444444444444444,
              "#bd3786"
             ],
             [
              0.5555555555555556,
              "#d8576b"
             ],
             [
              0.6666666666666666,
              "#ed7953"
             ],
             [
              0.7777777777777778,
              "#fb9f3a"
             ],
             [
              0.8888888888888888,
              "#fdca26"
             ],
             [
              1,
              "#f0f921"
             ]
            ],
            "type": "heatmap"
           }
          ],
          "heatmapgl": [
           {
            "colorbar": {
             "outlinewidth": 0,
             "ticks": ""
            },
            "colorscale": [
             [
              0,
              "#0d0887"
             ],
             [
              0.1111111111111111,
              "#46039f"
             ],
             [
              0.2222222222222222,
              "#7201a8"
             ],
             [
              0.3333333333333333,
              "#9c179e"
             ],
             [
              0.4444444444444444,
              "#bd3786"
             ],
             [
              0.5555555555555556,
              "#d8576b"
             ],
             [
              0.6666666666666666,
              "#ed7953"
             ],
             [
              0.7777777777777778,
              "#fb9f3a"
             ],
             [
              0.8888888888888888,
              "#fdca26"
             ],
             [
              1,
              "#f0f921"
             ]
            ],
            "type": "heatmapgl"
           }
          ],
          "histogram": [
           {
            "marker": {
             "pattern": {
              "fillmode": "overlay",
              "size": 10,
              "solidity": 0.2
             }
            },
            "type": "histogram"
           }
          ],
          "histogram2d": [
           {
            "colorbar": {
             "outlinewidth": 0,
             "ticks": ""
            },
            "colorscale": [
             [
              0,
              "#0d0887"
             ],
             [
              0.1111111111111111,
              "#46039f"
             ],
             [
              0.2222222222222222,
              "#7201a8"
             ],
             [
              0.3333333333333333,
              "#9c179e"
             ],
             [
              0.4444444444444444,
              "#bd3786"
             ],
             [
              0.5555555555555556,
              "#d8576b"
             ],
             [
              0.6666666666666666,
              "#ed7953"
             ],
             [
              0.7777777777777778,
              "#fb9f3a"
             ],
             [
              0.8888888888888888,
              "#fdca26"
             ],
             [
              1,
              "#f0f921"
             ]
            ],
            "type": "histogram2d"
           }
          ],
          "histogram2dcontour": [
           {
            "colorbar": {
             "outlinewidth": 0,
             "ticks": ""
            },
            "colorscale": [
             [
              0,
              "#0d0887"
             ],
             [
              0.1111111111111111,
              "#46039f"
             ],
             [
              0.2222222222222222,
              "#7201a8"
             ],
             [
              0.3333333333333333,
              "#9c179e"
             ],
             [
              0.4444444444444444,
              "#bd3786"
             ],
             [
              0.5555555555555556,
              "#d8576b"
             ],
             [
              0.6666666666666666,
              "#ed7953"
             ],
             [
              0.7777777777777778,
              "#fb9f3a"
             ],
             [
              0.8888888888888888,
              "#fdca26"
             ],
             [
              1,
              "#f0f921"
             ]
            ],
            "type": "histogram2dcontour"
           }
          ],
          "mesh3d": [
           {
            "colorbar": {
             "outlinewidth": 0,
             "ticks": ""
            },
            "type": "mesh3d"
           }
          ],
          "parcoords": [
           {
            "line": {
             "colorbar": {
              "outlinewidth": 0,
              "ticks": ""
             }
            },
            "type": "parcoords"
           }
          ],
          "pie": [
           {
            "automargin": true,
            "type": "pie"
           }
          ],
          "scatter": [
           {
            "marker": {
             "line": {
              "color": "#283442"
             }
            },
            "type": "scatter"
           }
          ],
          "scatter3d": [
           {
            "line": {
             "colorbar": {
              "outlinewidth": 0,
              "ticks": ""
             }
            },
            "marker": {
             "colorbar": {
              "outlinewidth": 0,
              "ticks": ""
             }
            },
            "type": "scatter3d"
           }
          ],
          "scattercarpet": [
           {
            "marker": {
             "colorbar": {
              "outlinewidth": 0,
              "ticks": ""
             }
            },
            "type": "scattercarpet"
           }
          ],
          "scattergeo": [
           {
            "marker": {
             "colorbar": {
              "outlinewidth": 0,
              "ticks": ""
             }
            },
            "type": "scattergeo"
           }
          ],
          "scattergl": [
           {
            "marker": {
             "line": {
              "color": "#283442"
             }
            },
            "type": "scattergl"
           }
          ],
          "scattermapbox": [
           {
            "marker": {
             "colorbar": {
              "outlinewidth": 0,
              "ticks": ""
             }
            },
            "type": "scattermapbox"
           }
          ],
          "scatterpolar": [
           {
            "marker": {
             "colorbar": {
              "outlinewidth": 0,
              "ticks": ""
             }
            },
            "type": "scatterpolar"
           }
          ],
          "scatterpolargl": [
           {
            "marker": {
             "colorbar": {
              "outlinewidth": 0,
              "ticks": ""
             }
            },
            "type": "scatterpolargl"
           }
          ],
          "scatterternary": [
           {
            "marker": {
             "colorbar": {
              "outlinewidth": 0,
              "ticks": ""
             }
            },
            "type": "scatterternary"
           }
          ],
          "surface": [
           {
            "colorbar": {
             "outlinewidth": 0,
             "ticks": ""
            },
            "colorscale": [
             [
              0,
              "#0d0887"
             ],
             [
              0.1111111111111111,
              "#46039f"
             ],
             [
              0.2222222222222222,
              "#7201a8"
             ],
             [
              0.3333333333333333,
              "#9c179e"
             ],
             [
              0.4444444444444444,
              "#bd3786"
             ],
             [
              0.5555555555555556,
              "#d8576b"
             ],
             [
              0.6666666666666666,
              "#ed7953"
             ],
             [
              0.7777777777777778,
              "#fb9f3a"
             ],
             [
              0.8888888888888888,
              "#fdca26"
             ],
             [
              1,
              "#f0f921"
             ]
            ],
            "type": "surface"
           }
          ],
          "table": [
           {
            "cells": {
             "fill": {
              "color": "#506784"
             },
             "line": {
              "color": "rgb(17,17,17)"
             }
            },
            "header": {
             "fill": {
              "color": "#2a3f5f"
             },
             "line": {
              "color": "rgb(17,17,17)"
             }
            },
            "type": "table"
           }
          ]
         },
         "layout": {
          "annotationdefaults": {
           "arrowcolor": "#f2f5fa",
           "arrowhead": 0,
           "arrowwidth": 1
          },
          "autotypenumbers": "strict",
          "coloraxis": {
           "colorbar": {
            "outlinewidth": 0,
            "ticks": ""
           }
          },
          "colorscale": {
           "diverging": [
            [
             0,
             "#8e0152"
            ],
            [
             0.1,
             "#c51b7d"
            ],
            [
             0.2,
             "#de77ae"
            ],
            [
             0.3,
             "#f1b6da"
            ],
            [
             0.4,
             "#fde0ef"
            ],
            [
             0.5,
             "#f7f7f7"
            ],
            [
             0.6,
             "#e6f5d0"
            ],
            [
             0.7,
             "#b8e186"
            ],
            [
             0.8,
             "#7fbc41"
            ],
            [
             0.9,
             "#4d9221"
            ],
            [
             1,
             "#276419"
            ]
           ],
           "sequential": [
            [
             0,
             "#0d0887"
            ],
            [
             0.1111111111111111,
             "#46039f"
            ],
            [
             0.2222222222222222,
             "#7201a8"
            ],
            [
             0.3333333333333333,
             "#9c179e"
            ],
            [
             0.4444444444444444,
             "#bd3786"
            ],
            [
             0.5555555555555556,
             "#d8576b"
            ],
            [
             0.6666666666666666,
             "#ed7953"
            ],
            [
             0.7777777777777778,
             "#fb9f3a"
            ],
            [
             0.8888888888888888,
             "#fdca26"
            ],
            [
             1,
             "#f0f921"
            ]
           ],
           "sequentialminus": [
            [
             0,
             "#0d0887"
            ],
            [
             0.1111111111111111,
             "#46039f"
            ],
            [
             0.2222222222222222,
             "#7201a8"
            ],
            [
             0.3333333333333333,
             "#9c179e"
            ],
            [
             0.4444444444444444,
             "#bd3786"
            ],
            [
             0.5555555555555556,
             "#d8576b"
            ],
            [
             0.6666666666666666,
             "#ed7953"
            ],
            [
             0.7777777777777778,
             "#fb9f3a"
            ],
            [
             0.8888888888888888,
             "#fdca26"
            ],
            [
             1,
             "#f0f921"
            ]
           ]
          },
          "colorway": [
           "#636efa",
           "#EF553B",
           "#00cc96",
           "#ab63fa",
           "#FFA15A",
           "#19d3f3",
           "#FF6692",
           "#B6E880",
           "#FF97FF",
           "#FECB52"
          ],
          "font": {
           "color": "#f2f5fa"
          },
          "geo": {
           "bgcolor": "rgb(17,17,17)",
           "lakecolor": "rgb(17,17,17)",
           "landcolor": "rgb(17,17,17)",
           "showlakes": true,
           "showland": true,
           "subunitcolor": "#506784"
          },
          "hoverlabel": {
           "align": "left"
          },
          "hovermode": "closest",
          "mapbox": {
           "style": "dark"
          },
          "paper_bgcolor": "rgb(17,17,17)",
          "plot_bgcolor": "rgb(17,17,17)",
          "polar": {
           "angularaxis": {
            "gridcolor": "#506784",
            "linecolor": "#506784",
            "ticks": ""
           },
           "bgcolor": "rgb(17,17,17)",
           "radialaxis": {
            "gridcolor": "#506784",
            "linecolor": "#506784",
            "ticks": ""
           }
          },
          "scene": {
           "xaxis": {
            "backgroundcolor": "rgb(17,17,17)",
            "gridcolor": "#506784",
            "gridwidth": 2,
            "linecolor": "#506784",
            "showbackground": true,
            "ticks": "",
            "zerolinecolor": "#C8D4E3"
           },
           "yaxis": {
            "backgroundcolor": "rgb(17,17,17)",
            "gridcolor": "#506784",
            "gridwidth": 2,
            "linecolor": "#506784",
            "showbackground": true,
            "ticks": "",
            "zerolinecolor": "#C8D4E3"
           },
           "zaxis": {
            "backgroundcolor": "rgb(17,17,17)",
            "gridcolor": "#506784",
            "gridwidth": 2,
            "linecolor": "#506784",
            "showbackground": true,
            "ticks": "",
            "zerolinecolor": "#C8D4E3"
           }
          },
          "shapedefaults": {
           "line": {
            "color": "#f2f5fa"
           }
          },
          "sliderdefaults": {
           "bgcolor": "#C8D4E3",
           "bordercolor": "rgb(17,17,17)",
           "borderwidth": 1,
           "tickwidth": 0
          },
          "ternary": {
           "aaxis": {
            "gridcolor": "#506784",
            "linecolor": "#506784",
            "ticks": ""
           },
           "baxis": {
            "gridcolor": "#506784",
            "linecolor": "#506784",
            "ticks": ""
           },
           "bgcolor": "rgb(17,17,17)",
           "caxis": {
            "gridcolor": "#506784",
            "linecolor": "#506784",
            "ticks": ""
           }
          },
          "title": {
           "x": 0.05
          },
          "updatemenudefaults": {
           "bgcolor": "#506784",
           "borderwidth": 0
          },
          "xaxis": {
           "automargin": true,
           "gridcolor": "#283442",
           "linecolor": "#506784",
           "ticks": "",
           "title": {
            "standoff": 15
           },
           "zerolinecolor": "#283442",
           "zerolinewidth": 2
          },
          "yaxis": {
           "automargin": true,
           "gridcolor": "#283442",
           "linecolor": "#506784",
           "ticks": "",
           "title": {
            "standoff": 15
           },
           "zerolinecolor": "#283442",
           "zerolinewidth": 2
          }
         }
        },
        "title": {
         "text": "Running Reward over time"
        },
        "xaxis": {
         "anchor": "y",
         "domain": [
          0,
          1
         ],
         "title": {
          "text": "Episode"
         }
        },
        "yaxis": {
         "anchor": "x",
         "domain": [
          0,
          1
         ],
         "title": {
          "text": "value"
         }
        }
       }
      }
     },
     "metadata": {},
     "output_type": "display_data"
    }
   ],
   "source": [
    "px.line(\n",
    "    df,\n",
    "    x='episode',\n",
    "    y=['running_reward', \"max_reward\"],\n",
    "    title='Running Reward over time',\n",
    "    labels={\n",
    "        'running_reward': 'Running Reward',\n",
    "        'episode': 'Episode'\n",
    "        },\n",
    "    template='plotly_dark'\n",
    "    )"
   ]
  }
 ],
 "metadata": {
  "kernelspec": {
   "display_name": ".venv",
   "language": "python",
   "name": "python3"
  },
  "language_info": {
   "codemirror_mode": {
    "name": "ipython",
    "version": 3
   },
   "file_extension": ".py",
   "mimetype": "text/x-python",
   "name": "python",
   "nbconvert_exporter": "python",
   "pygments_lexer": "ipython3",
   "version": "3.12.7"
  }
 },
 "nbformat": 4,
 "nbformat_minor": 2
}
